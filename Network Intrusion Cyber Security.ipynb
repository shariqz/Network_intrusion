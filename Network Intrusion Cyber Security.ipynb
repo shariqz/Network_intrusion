{
 "cells": [
  {
   "cell_type": "code",
   "execution_count": 10,
   "id": "618bb445",
   "metadata": {},
   "outputs": [],
   "source": [
    "import numpy as np\n",
    "import pandas as pd\n",
    "import matplotlib.pyplot as plt\n",
    "import seaborn as sns"
   ]
  },
  {
   "cell_type": "markdown",
   "id": "d9dc0ada",
   "metadata": {},
   "source": [
    "# Importing all the files"
   ]
  },
  {
   "cell_type": "code",
   "execution_count": 11,
   "id": "89efda78",
   "metadata": {},
   "outputs": [],
   "source": [
    "a=pd.read_csv('C:\\\\Users\\\\LENOVO\\\\Downloads\\\\12. Capstone Case Study - Cyber Security Case Study\\\\Data_of_Attack_Back.csv')"
   ]
  },
  {
   "cell_type": "code",
   "execution_count": 12,
   "id": "c5f395eb",
   "metadata": {},
   "outputs": [],
   "source": [
    "b=pd.read_csv('C:\\\\Users\\\\LENOVO\\\\Downloads\\\\12. Capstone Case Study - Cyber Security Case Study\\\\Data_of_Attack_Back_BufferOverflow.csv')"
   ]
  },
  {
   "cell_type": "code",
   "execution_count": 13,
   "id": "c7fc256b",
   "metadata": {},
   "outputs": [],
   "source": [
    "c=pd.read_csv('C:\\\\Users\\\\LENOVO\\\\Downloads\\\\12. Capstone Case Study - Cyber Security Case Study\\\\Data_of_Attack_Back_FTPWrite.csv',sep=',',header=None)"
   ]
  },
  {
   "cell_type": "code",
   "execution_count": 14,
   "id": "f5843767",
   "metadata": {},
   "outputs": [],
   "source": [
    "d=pd.read_csv('C:\\\\Users\\\\LENOVO\\\\Downloads\\\\12. Capstone Case Study - Cyber Security Case Study\\\\Data_of_Attack_Back_GuessPassword.csv')"
   ]
  },
  {
   "cell_type": "code",
   "execution_count": 15,
   "id": "c29f9684",
   "metadata": {},
   "outputs": [],
   "source": [
    "e=pd.read_csv('C:\\\\Users\\\\LENOVO\\\\Downloads\\\\12. Capstone Case Study - Cyber Security Case Study\\\\Data_of_Attack_Back_Neptune.csv')"
   ]
  },
  {
   "cell_type": "code",
   "execution_count": 16,
   "id": "a2d72815",
   "metadata": {},
   "outputs": [],
   "source": [
    "f=pd.read_csv('C:\\\\Users\\\\LENOVO\\\\Downloads\\\\12. Capstone Case Study - Cyber Security Case Study\\\\Data_of_Attack_Back_NMap.csv')"
   ]
  },
  {
   "cell_type": "code",
   "execution_count": 17,
   "id": "787ec48c",
   "metadata": {},
   "outputs": [],
   "source": [
    "g=pd.read_csv('C:\\\\Users\\\\LENOVO\\\\Downloads\\\\12. Capstone Case Study - Cyber Security Case Study\\\\Data_of_Attack_Back_Normal.csv')"
   ]
  },
  {
   "cell_type": "code",
   "execution_count": 18,
   "id": "3f5c1c63",
   "metadata": {},
   "outputs": [],
   "source": [
    "h=pd.read_csv('C:\\\\Users\\\\LENOVO\\\\Downloads\\\\12. Capstone Case Study - Cyber Security Case Study\\\\Data_of_Attack_Back_PortSweep.csv')"
   ]
  },
  {
   "cell_type": "code",
   "execution_count": 19,
   "id": "946d6d05",
   "metadata": {},
   "outputs": [],
   "source": [
    "i=pd.read_csv('C:\\\\Users\\\\LENOVO\\\\Downloads\\\\12. Capstone Case Study - Cyber Security Case Study\\\\Data_of_Attack_Back_RootKit.csv')"
   ]
  },
  {
   "cell_type": "code",
   "execution_count": 20,
   "id": "97eb2fa0",
   "metadata": {},
   "outputs": [],
   "source": [
    "j=pd.read_csv('C:\\\\Users\\\\LENOVO\\\\Downloads\\\\12. Capstone Case Study - Cyber Security Case Study\\\\Data_of_Attack_Back_Satan.csv')"
   ]
  },
  {
   "cell_type": "code",
   "execution_count": 21,
   "id": "7353d4ff",
   "metadata": {},
   "outputs": [],
   "source": [
    "k=pd.read_csv('C:\\\\Users\\\\LENOVO\\\\Downloads\\\\12. Capstone Case Study - Cyber Security Case Study\\\\Data_of_Attack_Back_Smurf.csv')"
   ]
  },
  {
   "cell_type": "markdown",
   "id": "2dc4ea78",
   "metadata": {},
   "source": [
    "# Adding target variable column"
   ]
  },
  {
   "cell_type": "code",
   "execution_count": 23,
   "id": "9612195c",
   "metadata": {},
   "outputs": [],
   "source": [
    "a['Attack_name']='back'"
   ]
  },
  {
   "cell_type": "code",
   "execution_count": 24,
   "id": "a9807c40",
   "metadata": {},
   "outputs": [],
   "source": [
    "b['Attack_name']='BufferOverflow'"
   ]
  },
  {
   "cell_type": "code",
   "execution_count": 25,
   "id": "3bb11aa2",
   "metadata": {},
   "outputs": [],
   "source": [
    "d['Attack_name']='GuessPassword'"
   ]
  },
  {
   "cell_type": "code",
   "execution_count": 26,
   "id": "964d0c04",
   "metadata": {},
   "outputs": [],
   "source": [
    "e['Attack_name']='Neptune'"
   ]
  },
  {
   "cell_type": "code",
   "execution_count": 27,
   "id": "8673bcd4",
   "metadata": {},
   "outputs": [],
   "source": [
    "f['Attack_name']='NMap'"
   ]
  },
  {
   "cell_type": "code",
   "execution_count": 28,
   "id": "03a995ba",
   "metadata": {},
   "outputs": [],
   "source": [
    "g['Attack_name']='normal'"
   ]
  },
  {
   "cell_type": "code",
   "execution_count": 29,
   "id": "b8c8db8b",
   "metadata": {},
   "outputs": [],
   "source": [
    "h['Attack_name']='PortSweep'"
   ]
  },
  {
   "cell_type": "code",
   "execution_count": 30,
   "id": "0540053b",
   "metadata": {},
   "outputs": [],
   "source": [
    "i['Attack_name']='RootKit'"
   ]
  },
  {
   "cell_type": "code",
   "execution_count": 31,
   "id": "268e0db5",
   "metadata": {},
   "outputs": [],
   "source": [
    "j['Attack_name']='Satan'"
   ]
  },
  {
   "cell_type": "code",
   "execution_count": 32,
   "id": "6f2f1c91",
   "metadata": {},
   "outputs": [],
   "source": [
    "k['Attack_name']='Smurf'"
   ]
  },
  {
   "cell_type": "code",
   "execution_count": 33,
   "id": "ecf720bc",
   "metadata": {},
   "outputs": [],
   "source": [
    "c.columns=['duration','protocol_type','service','flag','src_bytes','dst_bytes','land','wrong_fragment','urgent','hot',' num_failed_logins', ' logged_in', ' num_compromised', ' root_shell',\n",
    "       ' su_attempted', ' num_root', ' num_file_creations', ' num_shells',\n",
    "       ' num_access_files', ' num_outbound_cmds', ' is_host_login',\n",
    "       ' is_guest_login', ' count', ' srv_count', ' serror_rate',\n",
    "       ' srv_error_rate', ' rerror_rate', ' srv_rerror_rate', ' same_srv_rate',\n",
    "       ' diff_srv_rate', ' srv_diff_host_rate', ' dst_host_count',\n",
    "       ' dst_host_srv_count', ' dst_host_same_srv_rate',\n",
    "       ' dst_host_diff_srv_rate', ' dst_host_same_src_port_rate',\n",
    "       ' dst_host_srv_diff_host_rate', ' dst_host_serror_rate',\n",
    "       ' dst_host_srv_serror_rate', ' dst_host_rerror_rate',\n",
    "\n",
    "\n",
    "       ' dst_host_srv_rerror_rate']"
   ]
  },
  {
   "cell_type": "code",
   "execution_count": 34,
   "id": "ac5eab17",
   "metadata": {},
   "outputs": [],
   "source": [
    "c['Attack_name']='FTPWrite'"
   ]
  },
  {
   "cell_type": "code",
   "execution_count": 35,
   "id": "97d2df1e",
   "metadata": {},
   "outputs": [
    {
     "name": "stderr",
     "output_type": "stream",
     "text": [
      "C:\\Users\\LENOVO\\AppData\\Local\\Temp\\ipykernel_15748\\3794881420.py:1: FutureWarning: The frame.append method is deprecated and will be removed from pandas in a future version. Use pandas.concat instead.\n",
      "  finals=a.append((b,c,d,e,f,g,h,i,j,k),True)\n"
     ]
    }
   ],
   "source": [
    "finals=a.append((b,c,d,e,f,g,h,i,j,k),True)"
   ]
  },
  {
   "cell_type": "code",
   "execution_count": 36,
   "id": "3b7074c0",
   "metadata": {},
   "outputs": [],
   "source": [
    "finals.drop(columns={'protocol_type', 'service',\n",
    "       'flag', 'src_bytes', 'dst_bytes', 'land', 'wrong_fragment', 'urgent',\n",
    "       'hot'},inplace=True)"
   ]
  },
  {
   "cell_type": "code",
   "execution_count": 37,
   "id": "933e93c4",
   "metadata": {},
   "outputs": [
    {
     "data": {
      "text/plain": [
       "normal            70.541165\n",
       "Neptune           27.793740\n",
       "Satan              0.613907\n",
       "Smurf              0.367806\n",
       "PortSweep          0.362546\n",
       "NMap               0.190080\n",
       "back               0.118402\n",
       "GuessPassword      0.006483\n",
       "BufferOverflow     0.003669\n",
       "RootKit            0.001223\n",
       "FTPWrite           0.000979\n",
       "Name: Attack_name, dtype: float64"
      ]
     },
     "execution_count": 37,
     "metadata": {},
     "output_type": "execute_result"
    }
   ],
   "source": [
    "finals['Attack_name'].value_counts()*100/817551 "
   ]
  },
  {
   "cell_type": "markdown",
   "id": "23ab900d",
   "metadata": {},
   "source": [
    "# Encoding the Target Variable"
   ]
  },
  {
   "cell_type": "code",
   "execution_count": 39,
   "id": "387c86ee",
   "metadata": {},
   "outputs": [
    {
     "data": {
      "text/html": [
       "<div>\n",
       "<style scoped>\n",
       "    .dataframe tbody tr th:only-of-type {\n",
       "        vertical-align: middle;\n",
       "    }\n",
       "\n",
       "    .dataframe tbody tr th {\n",
       "        vertical-align: top;\n",
       "    }\n",
       "\n",
       "    .dataframe thead th {\n",
       "        text-align: right;\n",
       "    }\n",
       "</style>\n",
       "<table border=\"1\" class=\"dataframe\">\n",
       "  <thead>\n",
       "    <tr style=\"text-align: right;\">\n",
       "      <th></th>\n",
       "      <th>duration</th>\n",
       "      <th>protocol_type</th>\n",
       "      <th>service</th>\n",
       "      <th>flag</th>\n",
       "      <th>src_bytes</th>\n",
       "      <th>dst_bytes</th>\n",
       "      <th>land</th>\n",
       "      <th>wrong_fragment</th>\n",
       "      <th>urgent</th>\n",
       "      <th>hot</th>\n",
       "      <th>...</th>\n",
       "      <th>dst_host_same_srv_rate</th>\n",
       "      <th>dst_host_diff_srv_rate</th>\n",
       "      <th>dst_host_same_src_port_rate</th>\n",
       "      <th>dst_host_srv_diff_host_rate</th>\n",
       "      <th>dst_host_serror_rate</th>\n",
       "      <th>dst_host_srv_serror_rate</th>\n",
       "      <th>dst_host_rerror_rate</th>\n",
       "      <th>dst_host_srv_rerror_rate</th>\n",
       "      <th>Attack_name</th>\n",
       "      <th>Binary_flag</th>\n",
       "    </tr>\n",
       "  </thead>\n",
       "  <tbody>\n",
       "    <tr>\n",
       "      <th>0</th>\n",
       "      <td>0.0</td>\n",
       "      <td>0.00</td>\n",
       "      <td>0.00</td>\n",
       "      <td>0.0</td>\n",
       "      <td>0.54540</td>\n",
       "      <td>0.08314</td>\n",
       "      <td>0.0</td>\n",
       "      <td>0.0</td>\n",
       "      <td>0.0</td>\n",
       "      <td>0.2</td>\n",
       "      <td>...</td>\n",
       "      <td>0.100</td>\n",
       "      <td>0.000</td>\n",
       "      <td>0.100</td>\n",
       "      <td>0.0</td>\n",
       "      <td>0.0</td>\n",
       "      <td>0.0</td>\n",
       "      <td>0.0</td>\n",
       "      <td>0.0</td>\n",
       "      <td>back</td>\n",
       "      <td>0</td>\n",
       "    </tr>\n",
       "    <tr>\n",
       "      <th>1</th>\n",
       "      <td>0.0</td>\n",
       "      <td>0.00</td>\n",
       "      <td>0.00</td>\n",
       "      <td>0.0</td>\n",
       "      <td>0.54540</td>\n",
       "      <td>0.08314</td>\n",
       "      <td>0.0</td>\n",
       "      <td>0.0</td>\n",
       "      <td>0.0</td>\n",
       "      <td>0.2</td>\n",
       "      <td>...</td>\n",
       "      <td>0.100</td>\n",
       "      <td>0.000</td>\n",
       "      <td>0.050</td>\n",
       "      <td>0.0</td>\n",
       "      <td>0.0</td>\n",
       "      <td>0.0</td>\n",
       "      <td>0.0</td>\n",
       "      <td>0.0</td>\n",
       "      <td>back</td>\n",
       "      <td>0</td>\n",
       "    </tr>\n",
       "    <tr>\n",
       "      <th>2</th>\n",
       "      <td>0.0</td>\n",
       "      <td>0.00</td>\n",
       "      <td>0.00</td>\n",
       "      <td>0.0</td>\n",
       "      <td>0.54540</td>\n",
       "      <td>0.08314</td>\n",
       "      <td>0.0</td>\n",
       "      <td>0.0</td>\n",
       "      <td>0.0</td>\n",
       "      <td>0.2</td>\n",
       "      <td>...</td>\n",
       "      <td>0.100</td>\n",
       "      <td>0.000</td>\n",
       "      <td>0.033</td>\n",
       "      <td>0.0</td>\n",
       "      <td>0.0</td>\n",
       "      <td>0.0</td>\n",
       "      <td>0.0</td>\n",
       "      <td>0.0</td>\n",
       "      <td>back</td>\n",
       "      <td>0</td>\n",
       "    </tr>\n",
       "    <tr>\n",
       "      <th>3</th>\n",
       "      <td>0.0</td>\n",
       "      <td>0.00</td>\n",
       "      <td>0.00</td>\n",
       "      <td>0.0</td>\n",
       "      <td>0.54540</td>\n",
       "      <td>0.08314</td>\n",
       "      <td>0.0</td>\n",
       "      <td>0.0</td>\n",
       "      <td>0.0</td>\n",
       "      <td>0.2</td>\n",
       "      <td>...</td>\n",
       "      <td>0.100</td>\n",
       "      <td>0.000</td>\n",
       "      <td>0.025</td>\n",
       "      <td>0.0</td>\n",
       "      <td>0.0</td>\n",
       "      <td>0.0</td>\n",
       "      <td>0.0</td>\n",
       "      <td>0.0</td>\n",
       "      <td>back</td>\n",
       "      <td>0</td>\n",
       "    </tr>\n",
       "    <tr>\n",
       "      <th>4</th>\n",
       "      <td>0.0</td>\n",
       "      <td>0.00</td>\n",
       "      <td>0.00</td>\n",
       "      <td>0.0</td>\n",
       "      <td>0.54540</td>\n",
       "      <td>0.08314</td>\n",
       "      <td>0.0</td>\n",
       "      <td>0.0</td>\n",
       "      <td>0.0</td>\n",
       "      <td>0.2</td>\n",
       "      <td>...</td>\n",
       "      <td>0.100</td>\n",
       "      <td>0.000</td>\n",
       "      <td>0.020</td>\n",
       "      <td>0.0</td>\n",
       "      <td>0.0</td>\n",
       "      <td>0.0</td>\n",
       "      <td>0.0</td>\n",
       "      <td>0.0</td>\n",
       "      <td>back</td>\n",
       "      <td>0</td>\n",
       "    </tr>\n",
       "    <tr>\n",
       "      <th>...</th>\n",
       "      <td>...</td>\n",
       "      <td>...</td>\n",
       "      <td>...</td>\n",
       "      <td>...</td>\n",
       "      <td>...</td>\n",
       "      <td>...</td>\n",
       "      <td>...</td>\n",
       "      <td>...</td>\n",
       "      <td>...</td>\n",
       "      <td>...</td>\n",
       "      <td>...</td>\n",
       "      <td>...</td>\n",
       "      <td>...</td>\n",
       "      <td>...</td>\n",
       "      <td>...</td>\n",
       "      <td>...</td>\n",
       "      <td>...</td>\n",
       "      <td>...</td>\n",
       "      <td>...</td>\n",
       "      <td>...</td>\n",
       "      <td>...</td>\n",
       "    </tr>\n",
       "    <tr>\n",
       "      <th>817546</th>\n",
       "      <td>0.0</td>\n",
       "      <td>0.02</td>\n",
       "      <td>0.09</td>\n",
       "      <td>0.0</td>\n",
       "      <td>0.01032</td>\n",
       "      <td>0.00000</td>\n",
       "      <td>0.0</td>\n",
       "      <td>0.0</td>\n",
       "      <td>0.0</td>\n",
       "      <td>0.0</td>\n",
       "      <td>...</td>\n",
       "      <td>0.098</td>\n",
       "      <td>0.001</td>\n",
       "      <td>0.098</td>\n",
       "      <td>0.0</td>\n",
       "      <td>0.0</td>\n",
       "      <td>0.0</td>\n",
       "      <td>0.0</td>\n",
       "      <td>0.0</td>\n",
       "      <td>Smurf</td>\n",
       "      <td>0</td>\n",
       "    </tr>\n",
       "    <tr>\n",
       "      <th>817547</th>\n",
       "      <td>0.0</td>\n",
       "      <td>0.02</td>\n",
       "      <td>0.09</td>\n",
       "      <td>0.0</td>\n",
       "      <td>0.01032</td>\n",
       "      <td>0.00000</td>\n",
       "      <td>0.0</td>\n",
       "      <td>0.0</td>\n",
       "      <td>0.0</td>\n",
       "      <td>0.0</td>\n",
       "      <td>...</td>\n",
       "      <td>0.099</td>\n",
       "      <td>0.001</td>\n",
       "      <td>0.099</td>\n",
       "      <td>0.0</td>\n",
       "      <td>0.0</td>\n",
       "      <td>0.0</td>\n",
       "      <td>0.0</td>\n",
       "      <td>0.0</td>\n",
       "      <td>Smurf</td>\n",
       "      <td>0</td>\n",
       "    </tr>\n",
       "    <tr>\n",
       "      <th>817548</th>\n",
       "      <td>0.0</td>\n",
       "      <td>0.02</td>\n",
       "      <td>0.09</td>\n",
       "      <td>0.0</td>\n",
       "      <td>0.01032</td>\n",
       "      <td>0.00000</td>\n",
       "      <td>0.0</td>\n",
       "      <td>0.0</td>\n",
       "      <td>0.0</td>\n",
       "      <td>0.0</td>\n",
       "      <td>...</td>\n",
       "      <td>0.099</td>\n",
       "      <td>0.001</td>\n",
       "      <td>0.099</td>\n",
       "      <td>0.0</td>\n",
       "      <td>0.0</td>\n",
       "      <td>0.0</td>\n",
       "      <td>0.0</td>\n",
       "      <td>0.0</td>\n",
       "      <td>Smurf</td>\n",
       "      <td>0</td>\n",
       "    </tr>\n",
       "    <tr>\n",
       "      <th>817549</th>\n",
       "      <td>0.0</td>\n",
       "      <td>0.02</td>\n",
       "      <td>0.09</td>\n",
       "      <td>0.0</td>\n",
       "      <td>0.01032</td>\n",
       "      <td>0.00000</td>\n",
       "      <td>0.0</td>\n",
       "      <td>0.0</td>\n",
       "      <td>0.0</td>\n",
       "      <td>0.0</td>\n",
       "      <td>...</td>\n",
       "      <td>0.100</td>\n",
       "      <td>0.001</td>\n",
       "      <td>0.100</td>\n",
       "      <td>0.0</td>\n",
       "      <td>0.0</td>\n",
       "      <td>0.0</td>\n",
       "      <td>0.0</td>\n",
       "      <td>0.0</td>\n",
       "      <td>Smurf</td>\n",
       "      <td>0</td>\n",
       "    </tr>\n",
       "    <tr>\n",
       "      <th>817550</th>\n",
       "      <td>0.0</td>\n",
       "      <td>0.01</td>\n",
       "      <td>0.12</td>\n",
       "      <td>0.0</td>\n",
       "      <td>0.00028</td>\n",
       "      <td>0.00000</td>\n",
       "      <td>0.0</td>\n",
       "      <td>0.3</td>\n",
       "      <td>0.0</td>\n",
       "      <td>0.0</td>\n",
       "      <td>...</td>\n",
       "      <td>0.000</td>\n",
       "      <td>0.001</td>\n",
       "      <td>0.000</td>\n",
       "      <td>0.0</td>\n",
       "      <td>0.0</td>\n",
       "      <td>0.0</td>\n",
       "      <td>0.0</td>\n",
       "      <td>0.0</td>\n",
       "      <td>Smurf</td>\n",
       "      <td>0</td>\n",
       "    </tr>\n",
       "  </tbody>\n",
       "</table>\n",
       "<p>817551 rows × 43 columns</p>\n",
       "</div>"
      ],
      "text/plain": [
       "        duration   protocol_type   service   flag   src_bytes   dst_bytes  \\\n",
       "0            0.0            0.00      0.00    0.0     0.54540     0.08314   \n",
       "1            0.0            0.00      0.00    0.0     0.54540     0.08314   \n",
       "2            0.0            0.00      0.00    0.0     0.54540     0.08314   \n",
       "3            0.0            0.00      0.00    0.0     0.54540     0.08314   \n",
       "4            0.0            0.00      0.00    0.0     0.54540     0.08314   \n",
       "...          ...             ...       ...    ...         ...         ...   \n",
       "817546       0.0            0.02      0.09    0.0     0.01032     0.00000   \n",
       "817547       0.0            0.02      0.09    0.0     0.01032     0.00000   \n",
       "817548       0.0            0.02      0.09    0.0     0.01032     0.00000   \n",
       "817549       0.0            0.02      0.09    0.0     0.01032     0.00000   \n",
       "817550       0.0            0.01      0.12    0.0     0.00028     0.00000   \n",
       "\n",
       "         land   wrong_fragment   urgent   hot  ...   dst_host_same_srv_rate  \\\n",
       "0         0.0              0.0      0.0   0.2  ...                    0.100   \n",
       "1         0.0              0.0      0.0   0.2  ...                    0.100   \n",
       "2         0.0              0.0      0.0   0.2  ...                    0.100   \n",
       "3         0.0              0.0      0.0   0.2  ...                    0.100   \n",
       "4         0.0              0.0      0.0   0.2  ...                    0.100   \n",
       "...       ...              ...      ...   ...  ...                      ...   \n",
       "817546    0.0              0.0      0.0   0.0  ...                    0.098   \n",
       "817547    0.0              0.0      0.0   0.0  ...                    0.099   \n",
       "817548    0.0              0.0      0.0   0.0  ...                    0.099   \n",
       "817549    0.0              0.0      0.0   0.0  ...                    0.100   \n",
       "817550    0.0              0.3      0.0   0.0  ...                    0.000   \n",
       "\n",
       "         dst_host_diff_srv_rate   dst_host_same_src_port_rate  \\\n",
       "0                         0.000                         0.100   \n",
       "1                         0.000                         0.050   \n",
       "2                         0.000                         0.033   \n",
       "3                         0.000                         0.025   \n",
       "4                         0.000                         0.020   \n",
       "...                         ...                           ...   \n",
       "817546                    0.001                         0.098   \n",
       "817547                    0.001                         0.099   \n",
       "817548                    0.001                         0.099   \n",
       "817549                    0.001                         0.100   \n",
       "817550                    0.001                         0.000   \n",
       "\n",
       "         dst_host_srv_diff_host_rate   dst_host_serror_rate  \\\n",
       "0                                0.0                    0.0   \n",
       "1                                0.0                    0.0   \n",
       "2                                0.0                    0.0   \n",
       "3                                0.0                    0.0   \n",
       "4                                0.0                    0.0   \n",
       "...                              ...                    ...   \n",
       "817546                           0.0                    0.0   \n",
       "817547                           0.0                    0.0   \n",
       "817548                           0.0                    0.0   \n",
       "817549                           0.0                    0.0   \n",
       "817550                           0.0                    0.0   \n",
       "\n",
       "         dst_host_srv_serror_rate   dst_host_rerror_rate  \\\n",
       "0                             0.0                    0.0   \n",
       "1                             0.0                    0.0   \n",
       "2                             0.0                    0.0   \n",
       "3                             0.0                    0.0   \n",
       "4                             0.0                    0.0   \n",
       "...                           ...                    ...   \n",
       "817546                        0.0                    0.0   \n",
       "817547                        0.0                    0.0   \n",
       "817548                        0.0                    0.0   \n",
       "817549                        0.0                    0.0   \n",
       "817550                        0.0                    0.0   \n",
       "\n",
       "         dst_host_srv_rerror_rate  Attack_name  Binary_flag  \n",
       "0                             0.0         back            0  \n",
       "1                             0.0         back            0  \n",
       "2                             0.0         back            0  \n",
       "3                             0.0         back            0  \n",
       "4                             0.0         back            0  \n",
       "...                           ...          ...          ...  \n",
       "817546                        0.0        Smurf            0  \n",
       "817547                        0.0        Smurf            0  \n",
       "817548                        0.0        Smurf            0  \n",
       "817549                        0.0        Smurf            0  \n",
       "817550                        0.0        Smurf            0  \n",
       "\n",
       "[817551 rows x 43 columns]"
      ]
     },
     "execution_count": 39,
     "metadata": {},
     "output_type": "execute_result"
    }
   ],
   "source": [
    "finals['Binary_flag']=np.where(finals['Attack_name']=='normal',1,0)\n",
    "finals"
   ]
  },
  {
   "cell_type": "code",
   "execution_count": 40,
   "id": "60db7030",
   "metadata": {},
   "outputs": [],
   "source": [
    "finals.drop(columns={'Binary_flag'},inplace=True)"
   ]
  },
  {
   "cell_type": "code",
   "execution_count": 41,
   "id": "d183b6c8",
   "metadata": {},
   "outputs": [],
   "source": [
    "finals['Binary_flag']=np.where(finals['Attack_name']=='normal',0,1)"
   ]
  },
  {
   "cell_type": "code",
   "execution_count": 42,
   "id": "55b69dbe",
   "metadata": {},
   "outputs": [
    {
     "data": {
      "text/plain": [
       "0    70.541165\n",
       "1    29.458835\n",
       "Name: Binary_flag, dtype: float64"
      ]
     },
     "execution_count": 42,
     "metadata": {},
     "output_type": "execute_result"
    }
   ],
   "source": [
    "finals['Binary_flag'].value_counts()*100/817551"
   ]
  },
  {
   "cell_type": "code",
   "execution_count": 43,
   "id": "9748201e",
   "metadata": {},
   "outputs": [
    {
     "data": {
      "text/plain": [
       "duration                        0\n",
       " protocol_type                  8\n",
       " service                        8\n",
       " flag                           8\n",
       " src_bytes                      8\n",
       " dst_bytes                      8\n",
       " land                           8\n",
       " wrong_fragment                 8\n",
       " urgent                         8\n",
       " hot                            8\n",
       " num_failed_logins              0\n",
       " logged_in                      0\n",
       " num_compromised                0\n",
       " root_shell                     0\n",
       " su_attempted                   0\n",
       " num_root                       0\n",
       " num_file_creations             0\n",
       " num_shells                     0\n",
       " num_access_files               0\n",
       " num_outbound_cmds              0\n",
       " is_host_login                  0\n",
       " is_guest_login                 0\n",
       " count                          0\n",
       " srv_count                      0\n",
       " serror_rate                    0\n",
       " srv_error_rate                 0\n",
       " rerror_rate                    0\n",
       " srv_rerror_rate                0\n",
       " same_srv_rate                  0\n",
       " diff_srv_rate                  0\n",
       " srv_diff_host_rate             0\n",
       " dst_host_count                 0\n",
       " dst_host_srv_count             0\n",
       " dst_host_same_srv_rate         0\n",
       " dst_host_diff_srv_rate         0\n",
       " dst_host_same_src_port_rate    0\n",
       " dst_host_srv_diff_host_rate    0\n",
       " dst_host_serror_rate           0\n",
       " dst_host_srv_serror_rate       0\n",
       " dst_host_rerror_rate           0\n",
       " dst_host_srv_rerror_rate       0\n",
       "Attack_name                     0\n",
       "Binary_flag                     0\n",
       "dtype: int64"
      ]
     },
     "execution_count": 43,
     "metadata": {},
     "output_type": "execute_result"
    }
   ],
   "source": [
    "finals.isna().sum()"
   ]
  },
  {
   "cell_type": "code",
   "execution_count": 46,
   "id": "6fec1be6",
   "metadata": {},
   "outputs": [],
   "source": [
    "finals.drop(columns={' flag'},inplace=True)"
   ]
  },
  {
   "cell_type": "markdown",
   "id": "07f0669d",
   "metadata": {},
   "source": [
    "# Missing Value Treatment"
   ]
  },
  {
   "cell_type": "code",
   "execution_count": 47,
   "id": "88a07c66",
   "metadata": {},
   "outputs": [],
   "source": [
    "def missing_var(x):\n",
    "    if ((x.dtype==\"float\") or (x.dtype == \"int64\")):\n",
    "        x = x.fillna(x.median())\n",
    "    elif ((x.dtype==\"object\") or (x.dtype == \"O\")):\n",
    "        x = x.fillna(x.mode()[0])\n",
    "    else:\n",
    "        x\n",
    "    return x"
   ]
  },
  {
   "cell_type": "code",
   "execution_count": 48,
   "id": "bff005bc",
   "metadata": {},
   "outputs": [],
   "source": [
    "finals=finals.apply(missing_var)"
   ]
  },
  {
   "cell_type": "code",
   "execution_count": 49,
   "id": "20f92089",
   "metadata": {},
   "outputs": [
    {
     "data": {
      "text/plain": [
       "duration                        0\n",
       " protocol_type                  0\n",
       " service                        0\n",
       " src_bytes                      0\n",
       " dst_bytes                      0\n",
       " land                           0\n",
       " wrong_fragment                 0\n",
       " urgent                         0\n",
       " hot                            0\n",
       " num_failed_logins              0\n",
       " logged_in                      0\n",
       " num_compromised                0\n",
       " root_shell                     0\n",
       " su_attempted                   0\n",
       " num_root                       0\n",
       " num_file_creations             0\n",
       " num_shells                     0\n",
       " num_access_files               0\n",
       " num_outbound_cmds              0\n",
       " is_host_login                  0\n",
       " is_guest_login                 0\n",
       " count                          0\n",
       " srv_count                      0\n",
       " serror_rate                    0\n",
       " srv_error_rate                 0\n",
       " rerror_rate                    0\n",
       " srv_rerror_rate                0\n",
       " same_srv_rate                  0\n",
       " diff_srv_rate                  0\n",
       " srv_diff_host_rate             0\n",
       " dst_host_count                 0\n",
       " dst_host_srv_count             0\n",
       " dst_host_same_srv_rate         0\n",
       " dst_host_diff_srv_rate         0\n",
       " dst_host_same_src_port_rate    0\n",
       " dst_host_srv_diff_host_rate    0\n",
       " dst_host_serror_rate           0\n",
       " dst_host_srv_serror_rate       0\n",
       " dst_host_rerror_rate           0\n",
       " dst_host_srv_rerror_rate       0\n",
       "Attack_name                     0\n",
       "Binary_flag                     0\n",
       "dtype: int64"
      ]
     },
     "execution_count": 49,
     "metadata": {},
     "output_type": "execute_result"
    }
   ],
   "source": [
    "finals.isna().sum()"
   ]
  },
  {
   "cell_type": "code",
   "execution_count": 50,
   "id": "18c2cc5d",
   "metadata": {},
   "outputs": [],
   "source": [
    "X=finals.drop(columns={'Binary_flag','Attack_name'})"
   ]
  },
  {
   "cell_type": "code",
   "execution_count": 51,
   "id": "78c83ba0",
   "metadata": {},
   "outputs": [],
   "source": [
    "y=finals['Binary_flag']"
   ]
  },
  {
   "cell_type": "markdown",
   "id": "0983e0fb",
   "metadata": {},
   "source": [
    "# Standard Scaling"
   ]
  },
  {
   "cell_type": "code",
   "execution_count": 52,
   "id": "06a12c62",
   "metadata": {},
   "outputs": [],
   "source": [
    "from sklearn.preprocessing import StandardScaler\n",
    "sc=StandardScaler()"
   ]
  },
  {
   "cell_type": "code",
   "execution_count": 53,
   "id": "a6d74317",
   "metadata": {},
   "outputs": [
    {
     "data": {
      "text/html": [
       "<style>#sk-container-id-1 {color: black;}#sk-container-id-1 pre{padding: 0;}#sk-container-id-1 div.sk-toggleable {background-color: white;}#sk-container-id-1 label.sk-toggleable__label {cursor: pointer;display: block;width: 100%;margin-bottom: 0;padding: 0.3em;box-sizing: border-box;text-align: center;}#sk-container-id-1 label.sk-toggleable__label-arrow:before {content: \"▸\";float: left;margin-right: 0.25em;color: #696969;}#sk-container-id-1 label.sk-toggleable__label-arrow:hover:before {color: black;}#sk-container-id-1 div.sk-estimator:hover label.sk-toggleable__label-arrow:before {color: black;}#sk-container-id-1 div.sk-toggleable__content {max-height: 0;max-width: 0;overflow: hidden;text-align: left;background-color: #f0f8ff;}#sk-container-id-1 div.sk-toggleable__content pre {margin: 0.2em;color: black;border-radius: 0.25em;background-color: #f0f8ff;}#sk-container-id-1 input.sk-toggleable__control:checked~div.sk-toggleable__content {max-height: 200px;max-width: 100%;overflow: auto;}#sk-container-id-1 input.sk-toggleable__control:checked~label.sk-toggleable__label-arrow:before {content: \"▾\";}#sk-container-id-1 div.sk-estimator input.sk-toggleable__control:checked~label.sk-toggleable__label {background-color: #d4ebff;}#sk-container-id-1 div.sk-label input.sk-toggleable__control:checked~label.sk-toggleable__label {background-color: #d4ebff;}#sk-container-id-1 input.sk-hidden--visually {border: 0;clip: rect(1px 1px 1px 1px);clip: rect(1px, 1px, 1px, 1px);height: 1px;margin: -1px;overflow: hidden;padding: 0;position: absolute;width: 1px;}#sk-container-id-1 div.sk-estimator {font-family: monospace;background-color: #f0f8ff;border: 1px dotted black;border-radius: 0.25em;box-sizing: border-box;margin-bottom: 0.5em;}#sk-container-id-1 div.sk-estimator:hover {background-color: #d4ebff;}#sk-container-id-1 div.sk-parallel-item::after {content: \"\";width: 100%;border-bottom: 1px solid gray;flex-grow: 1;}#sk-container-id-1 div.sk-label:hover label.sk-toggleable__label {background-color: #d4ebff;}#sk-container-id-1 div.sk-serial::before {content: \"\";position: absolute;border-left: 1px solid gray;box-sizing: border-box;top: 0;bottom: 0;left: 50%;z-index: 0;}#sk-container-id-1 div.sk-serial {display: flex;flex-direction: column;align-items: center;background-color: white;padding-right: 0.2em;padding-left: 0.2em;position: relative;}#sk-container-id-1 div.sk-item {position: relative;z-index: 1;}#sk-container-id-1 div.sk-parallel {display: flex;align-items: stretch;justify-content: center;background-color: white;position: relative;}#sk-container-id-1 div.sk-item::before, #sk-container-id-1 div.sk-parallel-item::before {content: \"\";position: absolute;border-left: 1px solid gray;box-sizing: border-box;top: 0;bottom: 0;left: 50%;z-index: -1;}#sk-container-id-1 div.sk-parallel-item {display: flex;flex-direction: column;z-index: 1;position: relative;background-color: white;}#sk-container-id-1 div.sk-parallel-item:first-child::after {align-self: flex-end;width: 50%;}#sk-container-id-1 div.sk-parallel-item:last-child::after {align-self: flex-start;width: 50%;}#sk-container-id-1 div.sk-parallel-item:only-child::after {width: 0;}#sk-container-id-1 div.sk-dashed-wrapped {border: 1px dashed gray;margin: 0 0.4em 0.5em 0.4em;box-sizing: border-box;padding-bottom: 0.4em;background-color: white;}#sk-container-id-1 div.sk-label label {font-family: monospace;font-weight: bold;display: inline-block;line-height: 1.2em;}#sk-container-id-1 div.sk-label-container {text-align: center;}#sk-container-id-1 div.sk-container {/* jupyter's `normalize.less` sets `[hidden] { display: none; }` but bootstrap.min.css set `[hidden] { display: none !important; }` so we also need the `!important` here to be able to override the default hidden behavior on the sphinx rendered scikit-learn.org. See: https://github.com/scikit-learn/scikit-learn/issues/21755 */display: inline-block !important;position: relative;}#sk-container-id-1 div.sk-text-repr-fallback {display: none;}</style><div id=\"sk-container-id-1\" class=\"sk-top-container\"><div class=\"sk-text-repr-fallback\"><pre>StandardScaler()</pre><b>In a Jupyter environment, please rerun this cell to show the HTML representation or trust the notebook. <br />On GitHub, the HTML representation is unable to render, please try loading this page with nbviewer.org.</b></div><div class=\"sk-container\" hidden><div class=\"sk-item\"><div class=\"sk-estimator sk-toggleable\"><input class=\"sk-toggleable__control sk-hidden--visually\" id=\"sk-estimator-id-1\" type=\"checkbox\" checked><label for=\"sk-estimator-id-1\" class=\"sk-toggleable__label sk-toggleable__label-arrow\">StandardScaler</label><div class=\"sk-toggleable__content\"><pre>StandardScaler()</pre></div></div></div></div></div>"
      ],
      "text/plain": [
       "StandardScaler()"
      ]
     },
     "execution_count": 53,
     "metadata": {},
     "output_type": "execute_result"
    }
   ],
   "source": [
    "sc.fit(X)"
   ]
  },
  {
   "cell_type": "code",
   "execution_count": 54,
   "id": "0b0b7e38",
   "metadata": {},
   "outputs": [],
   "source": [
    "data=sc.transform(X)"
   ]
  },
  {
   "cell_type": "code",
   "execution_count": 55,
   "id": "377f078d",
   "metadata": {},
   "outputs": [
    {
     "data": {
      "text/html": [
       "<div>\n",
       "<style scoped>\n",
       "    .dataframe tbody tr th:only-of-type {\n",
       "        vertical-align: middle;\n",
       "    }\n",
       "\n",
       "    .dataframe tbody tr th {\n",
       "        vertical-align: top;\n",
       "    }\n",
       "\n",
       "    .dataframe thead th {\n",
       "        text-align: right;\n",
       "    }\n",
       "</style>\n",
       "<table border=\"1\" class=\"dataframe\">\n",
       "  <thead>\n",
       "    <tr style=\"text-align: right;\">\n",
       "      <th></th>\n",
       "      <th>duration</th>\n",
       "      <th>protocol_type</th>\n",
       "      <th>service</th>\n",
       "      <th>src_bytes</th>\n",
       "      <th>dst_bytes</th>\n",
       "      <th>land</th>\n",
       "      <th>wrong_fragment</th>\n",
       "      <th>urgent</th>\n",
       "      <th>hot</th>\n",
       "      <th>num_failed_logins</th>\n",
       "      <th>...</th>\n",
       "      <th>dst_host_count</th>\n",
       "      <th>dst_host_srv_count</th>\n",
       "      <th>dst_host_same_srv_rate</th>\n",
       "      <th>dst_host_diff_srv_rate</th>\n",
       "      <th>dst_host_same_src_port_rate</th>\n",
       "      <th>dst_host_srv_diff_host_rate</th>\n",
       "      <th>dst_host_serror_rate</th>\n",
       "      <th>dst_host_srv_serror_rate</th>\n",
       "      <th>dst_host_rerror_rate</th>\n",
       "      <th>dst_host_srv_rerror_rate</th>\n",
       "    </tr>\n",
       "  </thead>\n",
       "  <tbody>\n",
       "    <tr>\n",
       "      <th>0</th>\n",
       "      <td>-0.032919</td>\n",
       "      <td>-0.219446</td>\n",
       "      <td>-0.5489</td>\n",
       "      <td>16.261337</td>\n",
       "      <td>0.874614</td>\n",
       "      <td>0.0</td>\n",
       "      <td>-0.001106</td>\n",
       "      <td>-0.002873</td>\n",
       "      <td>4.763711</td>\n",
       "      <td>-0.009678</td>\n",
       "      <td>...</td>\n",
       "      <td>-1.625240</td>\n",
       "      <td>-1.438986</td>\n",
       "      <td>0.764735</td>\n",
       "      <td>-0.394987</td>\n",
       "      <td>5.375405</td>\n",
       "      <td>-0.453749</td>\n",
       "      <td>-0.577433</td>\n",
       "      <td>-0.575924</td>\n",
       "      <td>-0.245087</td>\n",
       "      <td>-0.239186</td>\n",
       "    </tr>\n",
       "    <tr>\n",
       "      <th>1</th>\n",
       "      <td>-0.032919</td>\n",
       "      <td>-0.219446</td>\n",
       "      <td>-0.5489</td>\n",
       "      <td>16.261337</td>\n",
       "      <td>0.874614</td>\n",
       "      <td>0.0</td>\n",
       "      <td>-0.001106</td>\n",
       "      <td>-0.002873</td>\n",
       "      <td>4.763711</td>\n",
       "      <td>-0.009678</td>\n",
       "      <td>...</td>\n",
       "      <td>-1.615441</td>\n",
       "      <td>-1.430029</td>\n",
       "      <td>0.764735</td>\n",
       "      <td>-0.394987</td>\n",
       "      <td>2.511643</td>\n",
       "      <td>-0.453749</td>\n",
       "      <td>-0.577433</td>\n",
       "      <td>-0.575924</td>\n",
       "      <td>-0.245087</td>\n",
       "      <td>-0.239186</td>\n",
       "    </tr>\n",
       "    <tr>\n",
       "      <th>2</th>\n",
       "      <td>-0.032919</td>\n",
       "      <td>-0.219446</td>\n",
       "      <td>-0.5489</td>\n",
       "      <td>16.261337</td>\n",
       "      <td>0.874614</td>\n",
       "      <td>0.0</td>\n",
       "      <td>-0.001106</td>\n",
       "      <td>-0.002873</td>\n",
       "      <td>4.763711</td>\n",
       "      <td>-0.009678</td>\n",
       "      <td>...</td>\n",
       "      <td>-1.605643</td>\n",
       "      <td>-1.421072</td>\n",
       "      <td>0.764735</td>\n",
       "      <td>-0.394987</td>\n",
       "      <td>1.537964</td>\n",
       "      <td>-0.453749</td>\n",
       "      <td>-0.577433</td>\n",
       "      <td>-0.575924</td>\n",
       "      <td>-0.245087</td>\n",
       "      <td>-0.239186</td>\n",
       "    </tr>\n",
       "    <tr>\n",
       "      <th>3</th>\n",
       "      <td>-0.032919</td>\n",
       "      <td>-0.219446</td>\n",
       "      <td>-0.5489</td>\n",
       "      <td>16.261337</td>\n",
       "      <td>0.874614</td>\n",
       "      <td>0.0</td>\n",
       "      <td>-0.001106</td>\n",
       "      <td>-0.002873</td>\n",
       "      <td>4.763711</td>\n",
       "      <td>-0.009678</td>\n",
       "      <td>...</td>\n",
       "      <td>-1.595844</td>\n",
       "      <td>-1.412115</td>\n",
       "      <td>0.764735</td>\n",
       "      <td>-0.394987</td>\n",
       "      <td>1.079762</td>\n",
       "      <td>-0.453749</td>\n",
       "      <td>-0.577433</td>\n",
       "      <td>-0.575924</td>\n",
       "      <td>-0.245087</td>\n",
       "      <td>-0.239186</td>\n",
       "    </tr>\n",
       "    <tr>\n",
       "      <th>4</th>\n",
       "      <td>-0.032919</td>\n",
       "      <td>-0.219446</td>\n",
       "      <td>-0.5489</td>\n",
       "      <td>16.261337</td>\n",
       "      <td>0.874614</td>\n",
       "      <td>0.0</td>\n",
       "      <td>-0.001106</td>\n",
       "      <td>-0.002873</td>\n",
       "      <td>4.763711</td>\n",
       "      <td>-0.009678</td>\n",
       "      <td>...</td>\n",
       "      <td>-1.586046</td>\n",
       "      <td>-1.403158</td>\n",
       "      <td>0.764735</td>\n",
       "      <td>-0.394987</td>\n",
       "      <td>0.793385</td>\n",
       "      <td>-0.453749</td>\n",
       "      <td>-0.577433</td>\n",
       "      <td>-0.575924</td>\n",
       "      <td>-0.245087</td>\n",
       "      <td>-0.239186</td>\n",
       "    </tr>\n",
       "  </tbody>\n",
       "</table>\n",
       "<p>5 rows × 40 columns</p>\n",
       "</div>"
      ],
      "text/plain": [
       "   duration   protocol_type   service   src_bytes   dst_bytes   land  \\\n",
       "0 -0.032919       -0.219446   -0.5489   16.261337    0.874614    0.0   \n",
       "1 -0.032919       -0.219446   -0.5489   16.261337    0.874614    0.0   \n",
       "2 -0.032919       -0.219446   -0.5489   16.261337    0.874614    0.0   \n",
       "3 -0.032919       -0.219446   -0.5489   16.261337    0.874614    0.0   \n",
       "4 -0.032919       -0.219446   -0.5489   16.261337    0.874614    0.0   \n",
       "\n",
       "    wrong_fragment    urgent       hot   num_failed_logins  ...  \\\n",
       "0        -0.001106 -0.002873  4.763711           -0.009678  ...   \n",
       "1        -0.001106 -0.002873  4.763711           -0.009678  ...   \n",
       "2        -0.001106 -0.002873  4.763711           -0.009678  ...   \n",
       "3        -0.001106 -0.002873  4.763711           -0.009678  ...   \n",
       "4        -0.001106 -0.002873  4.763711           -0.009678  ...   \n",
       "\n",
       "    dst_host_count   dst_host_srv_count   dst_host_same_srv_rate  \\\n",
       "0        -1.625240            -1.438986                 0.764735   \n",
       "1        -1.615441            -1.430029                 0.764735   \n",
       "2        -1.605643            -1.421072                 0.764735   \n",
       "3        -1.595844            -1.412115                 0.764735   \n",
       "4        -1.586046            -1.403158                 0.764735   \n",
       "\n",
       "    dst_host_diff_srv_rate   dst_host_same_src_port_rate  \\\n",
       "0                -0.394987                      5.375405   \n",
       "1                -0.394987                      2.511643   \n",
       "2                -0.394987                      1.537964   \n",
       "3                -0.394987                      1.079762   \n",
       "4                -0.394987                      0.793385   \n",
       "\n",
       "    dst_host_srv_diff_host_rate   dst_host_serror_rate  \\\n",
       "0                     -0.453749              -0.577433   \n",
       "1                     -0.453749              -0.577433   \n",
       "2                     -0.453749              -0.577433   \n",
       "3                     -0.453749              -0.577433   \n",
       "4                     -0.453749              -0.577433   \n",
       "\n",
       "    dst_host_srv_serror_rate   dst_host_rerror_rate   dst_host_srv_rerror_rate  \n",
       "0                  -0.575924              -0.245087                  -0.239186  \n",
       "1                  -0.575924              -0.245087                  -0.239186  \n",
       "2                  -0.575924              -0.245087                  -0.239186  \n",
       "3                  -0.575924              -0.245087                  -0.239186  \n",
       "4                  -0.575924              -0.245087                  -0.239186  \n",
       "\n",
       "[5 rows x 40 columns]"
      ]
     },
     "execution_count": 55,
     "metadata": {},
     "output_type": "execute_result"
    }
   ],
   "source": [
    "final_data=pd.DataFrame(data=data,columns=X.columns)\n",
    "final_data.head()"
   ]
  },
  {
   "cell_type": "markdown",
   "id": "1cc81c3c",
   "metadata": {},
   "source": [
    "# Train Test Split"
   ]
  },
  {
   "cell_type": "code",
   "execution_count": 56,
   "id": "222c2c27",
   "metadata": {},
   "outputs": [],
   "source": [
    "from sklearn.model_selection import train_test_split\n",
    "X_train, X_test, y_train, y_test = train_test_split(X, y, test_size=0.33, random_state=42)"
   ]
  },
  {
   "cell_type": "markdown",
   "id": "b6294493",
   "metadata": {},
   "source": [
    "# Decision Tree"
   ]
  },
  {
   "cell_type": "code",
   "execution_count": 57,
   "id": "df3f4e90",
   "metadata": {},
   "outputs": [],
   "source": [
    "from sklearn.tree import DecisionTreeClassifier\n",
    "clf = DecisionTreeClassifier(random_state=0)"
   ]
  },
  {
   "cell_type": "code",
   "execution_count": 58,
   "id": "cf76bbd1",
   "metadata": {},
   "outputs": [
    {
     "data": {
      "text/html": [
       "<style>#sk-container-id-2 {color: black;}#sk-container-id-2 pre{padding: 0;}#sk-container-id-2 div.sk-toggleable {background-color: white;}#sk-container-id-2 label.sk-toggleable__label {cursor: pointer;display: block;width: 100%;margin-bottom: 0;padding: 0.3em;box-sizing: border-box;text-align: center;}#sk-container-id-2 label.sk-toggleable__label-arrow:before {content: \"▸\";float: left;margin-right: 0.25em;color: #696969;}#sk-container-id-2 label.sk-toggleable__label-arrow:hover:before {color: black;}#sk-container-id-2 div.sk-estimator:hover label.sk-toggleable__label-arrow:before {color: black;}#sk-container-id-2 div.sk-toggleable__content {max-height: 0;max-width: 0;overflow: hidden;text-align: left;background-color: #f0f8ff;}#sk-container-id-2 div.sk-toggleable__content pre {margin: 0.2em;color: black;border-radius: 0.25em;background-color: #f0f8ff;}#sk-container-id-2 input.sk-toggleable__control:checked~div.sk-toggleable__content {max-height: 200px;max-width: 100%;overflow: auto;}#sk-container-id-2 input.sk-toggleable__control:checked~label.sk-toggleable__label-arrow:before {content: \"▾\";}#sk-container-id-2 div.sk-estimator input.sk-toggleable__control:checked~label.sk-toggleable__label {background-color: #d4ebff;}#sk-container-id-2 div.sk-label input.sk-toggleable__control:checked~label.sk-toggleable__label {background-color: #d4ebff;}#sk-container-id-2 input.sk-hidden--visually {border: 0;clip: rect(1px 1px 1px 1px);clip: rect(1px, 1px, 1px, 1px);height: 1px;margin: -1px;overflow: hidden;padding: 0;position: absolute;width: 1px;}#sk-container-id-2 div.sk-estimator {font-family: monospace;background-color: #f0f8ff;border: 1px dotted black;border-radius: 0.25em;box-sizing: border-box;margin-bottom: 0.5em;}#sk-container-id-2 div.sk-estimator:hover {background-color: #d4ebff;}#sk-container-id-2 div.sk-parallel-item::after {content: \"\";width: 100%;border-bottom: 1px solid gray;flex-grow: 1;}#sk-container-id-2 div.sk-label:hover label.sk-toggleable__label {background-color: #d4ebff;}#sk-container-id-2 div.sk-serial::before {content: \"\";position: absolute;border-left: 1px solid gray;box-sizing: border-box;top: 0;bottom: 0;left: 50%;z-index: 0;}#sk-container-id-2 div.sk-serial {display: flex;flex-direction: column;align-items: center;background-color: white;padding-right: 0.2em;padding-left: 0.2em;position: relative;}#sk-container-id-2 div.sk-item {position: relative;z-index: 1;}#sk-container-id-2 div.sk-parallel {display: flex;align-items: stretch;justify-content: center;background-color: white;position: relative;}#sk-container-id-2 div.sk-item::before, #sk-container-id-2 div.sk-parallel-item::before {content: \"\";position: absolute;border-left: 1px solid gray;box-sizing: border-box;top: 0;bottom: 0;left: 50%;z-index: -1;}#sk-container-id-2 div.sk-parallel-item {display: flex;flex-direction: column;z-index: 1;position: relative;background-color: white;}#sk-container-id-2 div.sk-parallel-item:first-child::after {align-self: flex-end;width: 50%;}#sk-container-id-2 div.sk-parallel-item:last-child::after {align-self: flex-start;width: 50%;}#sk-container-id-2 div.sk-parallel-item:only-child::after {width: 0;}#sk-container-id-2 div.sk-dashed-wrapped {border: 1px dashed gray;margin: 0 0.4em 0.5em 0.4em;box-sizing: border-box;padding-bottom: 0.4em;background-color: white;}#sk-container-id-2 div.sk-label label {font-family: monospace;font-weight: bold;display: inline-block;line-height: 1.2em;}#sk-container-id-2 div.sk-label-container {text-align: center;}#sk-container-id-2 div.sk-container {/* jupyter's `normalize.less` sets `[hidden] { display: none; }` but bootstrap.min.css set `[hidden] { display: none !important; }` so we also need the `!important` here to be able to override the default hidden behavior on the sphinx rendered scikit-learn.org. See: https://github.com/scikit-learn/scikit-learn/issues/21755 */display: inline-block !important;position: relative;}#sk-container-id-2 div.sk-text-repr-fallback {display: none;}</style><div id=\"sk-container-id-2\" class=\"sk-top-container\"><div class=\"sk-text-repr-fallback\"><pre>DecisionTreeClassifier(random_state=0)</pre><b>In a Jupyter environment, please rerun this cell to show the HTML representation or trust the notebook. <br />On GitHub, the HTML representation is unable to render, please try loading this page with nbviewer.org.</b></div><div class=\"sk-container\" hidden><div class=\"sk-item\"><div class=\"sk-estimator sk-toggleable\"><input class=\"sk-toggleable__control sk-hidden--visually\" id=\"sk-estimator-id-2\" type=\"checkbox\" checked><label for=\"sk-estimator-id-2\" class=\"sk-toggleable__label sk-toggleable__label-arrow\">DecisionTreeClassifier</label><div class=\"sk-toggleable__content\"><pre>DecisionTreeClassifier(random_state=0)</pre></div></div></div></div></div>"
      ],
      "text/plain": [
       "DecisionTreeClassifier(random_state=0)"
      ]
     },
     "execution_count": 58,
     "metadata": {},
     "output_type": "execute_result"
    }
   ],
   "source": [
    "clf.fit(X_train,y_train)"
   ]
  },
  {
   "cell_type": "code",
   "execution_count": 59,
   "id": "ee32ccb4",
   "metadata": {},
   "outputs": [],
   "source": [
    "test_pred=clf.predict(X_test)"
   ]
  },
  {
   "cell_type": "code",
   "execution_count": 60,
   "id": "b7753e31",
   "metadata": {},
   "outputs": [],
   "source": [
    "from sklearn.metrics import accuracy_score,confusion_matrix,classification_report"
   ]
  },
  {
   "cell_type": "code",
   "execution_count": 61,
   "id": "62bbfa43",
   "metadata": {},
   "outputs": [
    {
     "data": {
      "text/plain": [
       "99.97850195706322"
      ]
     },
     "execution_count": 61,
     "metadata": {},
     "output_type": "execute_result"
    }
   ],
   "source": [
    "accuracy_score(test_pred,y_test)*100"
   ]
  },
  {
   "cell_type": "code",
   "execution_count": 62,
   "id": "48b4c04a",
   "metadata": {},
   "outputs": [],
   "source": [
    "train_pred=clf.predict(X_train)"
   ]
  },
  {
   "cell_type": "code",
   "execution_count": 63,
   "id": "7b2d3f89",
   "metadata": {},
   "outputs": [
    {
     "data": {
      "text/plain": [
       "100.0"
      ]
     },
     "execution_count": 63,
     "metadata": {},
     "output_type": "execute_result"
    }
   ],
   "source": [
    "accuracy_score(train_pred,y_train)*100"
   ]
  },
  {
   "cell_type": "code",
   "execution_count": 64,
   "id": "51b83f88",
   "metadata": {},
   "outputs": [
    {
     "data": {
      "text/plain": [
       "array([[190363,     35],\n",
       "       [    23,  79371]], dtype=int64)"
      ]
     },
     "execution_count": 64,
     "metadata": {},
     "output_type": "execute_result"
    }
   ],
   "source": [
    "confusion_matrix(y_test,test_pred)"
   ]
  },
  {
   "cell_type": "code",
   "execution_count": 65,
   "id": "60161eee",
   "metadata": {},
   "outputs": [
    {
     "data": {
      "text/plain": [
       "'              precision    recall  f1-score   support\\n\\n           0       1.00      1.00      1.00    190398\\n           1       1.00      1.00      1.00     79394\\n\\n    accuracy                           1.00    269792\\n   macro avg       1.00      1.00      1.00    269792\\nweighted avg       1.00      1.00      1.00    269792\\n'"
      ]
     },
     "execution_count": 65,
     "metadata": {},
     "output_type": "execute_result"
    }
   ],
   "source": [
    "classification_report(y_test,test_pred)"
   ]
  },
  {
   "cell_type": "code",
   "execution_count": 66,
   "id": "67f801c0",
   "metadata": {},
   "outputs": [
    {
     "data": {
      "text/plain": [
       "529029    0\n",
       "632184    0\n",
       "42537     1\n",
       "722040    0\n",
       "42712     1\n",
       "         ..\n",
       "402837    0\n",
       "54248     1\n",
       "406964    0\n",
       "581691    0\n",
       "46664     1\n",
       "Name: Binary_flag, Length: 269792, dtype: int32"
      ]
     },
     "execution_count": 66,
     "metadata": {},
     "output_type": "execute_result"
    }
   ],
   "source": [
    "y_test"
   ]
  },
  {
   "cell_type": "markdown",
   "id": "9108ffb0",
   "metadata": {},
   "source": [
    "# Support Vector Machine"
   ]
  },
  {
   "cell_type": "code",
   "execution_count": 67,
   "id": "a0b01917",
   "metadata": {},
   "outputs": [],
   "source": [
    "from sklearn import svm\n",
    "clf = svm.SVC()"
   ]
  },
  {
   "cell_type": "code",
   "execution_count": 68,
   "id": "4490840b",
   "metadata": {},
   "outputs": [
    {
     "data": {
      "text/html": [
       "<style>#sk-container-id-3 {color: black;}#sk-container-id-3 pre{padding: 0;}#sk-container-id-3 div.sk-toggleable {background-color: white;}#sk-container-id-3 label.sk-toggleable__label {cursor: pointer;display: block;width: 100%;margin-bottom: 0;padding: 0.3em;box-sizing: border-box;text-align: center;}#sk-container-id-3 label.sk-toggleable__label-arrow:before {content: \"▸\";float: left;margin-right: 0.25em;color: #696969;}#sk-container-id-3 label.sk-toggleable__label-arrow:hover:before {color: black;}#sk-container-id-3 div.sk-estimator:hover label.sk-toggleable__label-arrow:before {color: black;}#sk-container-id-3 div.sk-toggleable__content {max-height: 0;max-width: 0;overflow: hidden;text-align: left;background-color: #f0f8ff;}#sk-container-id-3 div.sk-toggleable__content pre {margin: 0.2em;color: black;border-radius: 0.25em;background-color: #f0f8ff;}#sk-container-id-3 input.sk-toggleable__control:checked~div.sk-toggleable__content {max-height: 200px;max-width: 100%;overflow: auto;}#sk-container-id-3 input.sk-toggleable__control:checked~label.sk-toggleable__label-arrow:before {content: \"▾\";}#sk-container-id-3 div.sk-estimator input.sk-toggleable__control:checked~label.sk-toggleable__label {background-color: #d4ebff;}#sk-container-id-3 div.sk-label input.sk-toggleable__control:checked~label.sk-toggleable__label {background-color: #d4ebff;}#sk-container-id-3 input.sk-hidden--visually {border: 0;clip: rect(1px 1px 1px 1px);clip: rect(1px, 1px, 1px, 1px);height: 1px;margin: -1px;overflow: hidden;padding: 0;position: absolute;width: 1px;}#sk-container-id-3 div.sk-estimator {font-family: monospace;background-color: #f0f8ff;border: 1px dotted black;border-radius: 0.25em;box-sizing: border-box;margin-bottom: 0.5em;}#sk-container-id-3 div.sk-estimator:hover {background-color: #d4ebff;}#sk-container-id-3 div.sk-parallel-item::after {content: \"\";width: 100%;border-bottom: 1px solid gray;flex-grow: 1;}#sk-container-id-3 div.sk-label:hover label.sk-toggleable__label {background-color: #d4ebff;}#sk-container-id-3 div.sk-serial::before {content: \"\";position: absolute;border-left: 1px solid gray;box-sizing: border-box;top: 0;bottom: 0;left: 50%;z-index: 0;}#sk-container-id-3 div.sk-serial {display: flex;flex-direction: column;align-items: center;background-color: white;padding-right: 0.2em;padding-left: 0.2em;position: relative;}#sk-container-id-3 div.sk-item {position: relative;z-index: 1;}#sk-container-id-3 div.sk-parallel {display: flex;align-items: stretch;justify-content: center;background-color: white;position: relative;}#sk-container-id-3 div.sk-item::before, #sk-container-id-3 div.sk-parallel-item::before {content: \"\";position: absolute;border-left: 1px solid gray;box-sizing: border-box;top: 0;bottom: 0;left: 50%;z-index: -1;}#sk-container-id-3 div.sk-parallel-item {display: flex;flex-direction: column;z-index: 1;position: relative;background-color: white;}#sk-container-id-3 div.sk-parallel-item:first-child::after {align-self: flex-end;width: 50%;}#sk-container-id-3 div.sk-parallel-item:last-child::after {align-self: flex-start;width: 50%;}#sk-container-id-3 div.sk-parallel-item:only-child::after {width: 0;}#sk-container-id-3 div.sk-dashed-wrapped {border: 1px dashed gray;margin: 0 0.4em 0.5em 0.4em;box-sizing: border-box;padding-bottom: 0.4em;background-color: white;}#sk-container-id-3 div.sk-label label {font-family: monospace;font-weight: bold;display: inline-block;line-height: 1.2em;}#sk-container-id-3 div.sk-label-container {text-align: center;}#sk-container-id-3 div.sk-container {/* jupyter's `normalize.less` sets `[hidden] { display: none; }` but bootstrap.min.css set `[hidden] { display: none !important; }` so we also need the `!important` here to be able to override the default hidden behavior on the sphinx rendered scikit-learn.org. See: https://github.com/scikit-learn/scikit-learn/issues/21755 */display: inline-block !important;position: relative;}#sk-container-id-3 div.sk-text-repr-fallback {display: none;}</style><div id=\"sk-container-id-3\" class=\"sk-top-container\"><div class=\"sk-text-repr-fallback\"><pre>SVC()</pre><b>In a Jupyter environment, please rerun this cell to show the HTML representation or trust the notebook. <br />On GitHub, the HTML representation is unable to render, please try loading this page with nbviewer.org.</b></div><div class=\"sk-container\" hidden><div class=\"sk-item\"><div class=\"sk-estimator sk-toggleable\"><input class=\"sk-toggleable__control sk-hidden--visually\" id=\"sk-estimator-id-3\" type=\"checkbox\" checked><label for=\"sk-estimator-id-3\" class=\"sk-toggleable__label sk-toggleable__label-arrow\">SVC</label><div class=\"sk-toggleable__content\"><pre>SVC()</pre></div></div></div></div></div>"
      ],
      "text/plain": [
       "SVC()"
      ]
     },
     "execution_count": 68,
     "metadata": {},
     "output_type": "execute_result"
    }
   ],
   "source": [
    "clf.fit(X_train,y_train)"
   ]
  },
  {
   "cell_type": "code",
   "execution_count": 69,
   "id": "ed7bd72a",
   "metadata": {},
   "outputs": [],
   "source": [
    "test_pred=clf.predict(X_test)"
   ]
  },
  {
   "cell_type": "code",
   "execution_count": 70,
   "id": "9d206fa0",
   "metadata": {},
   "outputs": [],
   "source": [
    "from sklearn.metrics import accuracy_score,confusion_matrix,classification_report"
   ]
  },
  {
   "cell_type": "code",
   "execution_count": 71,
   "id": "4ad96998",
   "metadata": {},
   "outputs": [
    {
     "data": {
      "text/plain": [
       "0.9992586881745937"
      ]
     },
     "execution_count": 71,
     "metadata": {},
     "output_type": "execute_result"
    }
   ],
   "source": [
    "accuracy_score(y_test,test_pred)"
   ]
  },
  {
   "cell_type": "code",
   "execution_count": 72,
   "id": "d762a0d7",
   "metadata": {},
   "outputs": [],
   "source": [
    "train_pred=clf.predict(X_train)"
   ]
  },
  {
   "cell_type": "code",
   "execution_count": 73,
   "id": "ce669ca0",
   "metadata": {},
   "outputs": [
    {
     "data": {
      "text/plain": [
       "0.99925697250068"
      ]
     },
     "execution_count": 73,
     "metadata": {},
     "output_type": "execute_result"
    }
   ],
   "source": [
    "accuracy_score(train_pred,y_train)"
   ]
  },
  {
   "cell_type": "markdown",
   "id": "34b4aa8e",
   "metadata": {},
   "source": [
    "# Multi-Class Classification"
   ]
  },
  {
   "cell_type": "code",
   "execution_count": 74,
   "id": "bc2c1c31",
   "metadata": {},
   "outputs": [
    {
     "data": {
      "text/plain": [
       "normal            576710\n",
       "Neptune           227228\n",
       "Satan               5019\n",
       "Smurf               3007\n",
       "PortSweep           2964\n",
       "NMap                1554\n",
       "back                 968\n",
       "GuessPassword         53\n",
       "BufferOverflow        30\n",
       "RootKit               10\n",
       "FTPWrite               8\n",
       "Name: Attack_name, dtype: int64"
      ]
     },
     "execution_count": 74,
     "metadata": {},
     "output_type": "execute_result"
    }
   ],
   "source": [
    "finals['Attack_name'].value_counts()"
   ]
  },
  {
   "cell_type": "code",
   "execution_count": 75,
   "id": "61f213b6",
   "metadata": {},
   "outputs": [],
   "source": [
    "finals['flags']=finals['Attack_name'].map({'normal':0,'Neptune':1,'Satan':2,'Smurf':3,'PortSweep':4,'NMap':5,'back':6,'GuessPassword':7,'BufferOverflow':8,'RootKit':9,'FTPWrite':10})"
   ]
  },
  {
   "cell_type": "code",
   "execution_count": 76,
   "id": "ce0e219f",
   "metadata": {},
   "outputs": [],
   "source": [
    "new_final=finals.drop(columns={'Binary_flag'})"
   ]
  },
  {
   "cell_type": "code",
   "execution_count": 77,
   "id": "0ed6c4fe",
   "metadata": {},
   "outputs": [
    {
     "data": {
      "text/plain": [
       "duration                        0\n",
       " protocol_type                  0\n",
       " service                        0\n",
       " src_bytes                      0\n",
       " dst_bytes                      0\n",
       " land                           0\n",
       " wrong_fragment                 0\n",
       " urgent                         0\n",
       " hot                            0\n",
       " num_failed_logins              0\n",
       " logged_in                      0\n",
       " num_compromised                0\n",
       " root_shell                     0\n",
       " su_attempted                   0\n",
       " num_root                       0\n",
       " num_file_creations             0\n",
       " num_shells                     0\n",
       " num_access_files               0\n",
       " num_outbound_cmds              0\n",
       " is_host_login                  0\n",
       " is_guest_login                 0\n",
       " count                          0\n",
       " srv_count                      0\n",
       " serror_rate                    0\n",
       " srv_error_rate                 0\n",
       " rerror_rate                    0\n",
       " srv_rerror_rate                0\n",
       " same_srv_rate                  0\n",
       " diff_srv_rate                  0\n",
       " srv_diff_host_rate             0\n",
       " dst_host_count                 0\n",
       " dst_host_srv_count             0\n",
       " dst_host_same_srv_rate         0\n",
       " dst_host_diff_srv_rate         0\n",
       " dst_host_same_src_port_rate    0\n",
       " dst_host_srv_diff_host_rate    0\n",
       " dst_host_serror_rate           0\n",
       " dst_host_srv_serror_rate       0\n",
       " dst_host_rerror_rate           0\n",
       " dst_host_srv_rerror_rate       0\n",
       "Attack_name                     0\n",
       "flags                           0\n",
       "dtype: int64"
      ]
     },
     "execution_count": 77,
     "metadata": {},
     "output_type": "execute_result"
    }
   ],
   "source": [
    "new_final.isna().sum()"
   ]
  },
  {
   "cell_type": "code",
   "execution_count": 78,
   "id": "d4553620",
   "metadata": {},
   "outputs": [
    {
     "data": {
      "text/plain": [
       "412"
      ]
     },
     "execution_count": 78,
     "metadata": {},
     "output_type": "execute_result"
    }
   ],
   "source": [
    "new_final.duplicated().sum()"
   ]
  },
  {
   "cell_type": "code",
   "execution_count": 79,
   "id": "bab4110e",
   "metadata": {},
   "outputs": [],
   "source": [
    "X1=new_final.drop(columns={'Attack_name','flags'})"
   ]
  },
  {
   "cell_type": "markdown",
   "id": "f8c2a67c",
   "metadata": {},
   "source": [
    "# Standard Scaling"
   ]
  },
  {
   "cell_type": "code",
   "execution_count": 80,
   "id": "d1c8d47a",
   "metadata": {},
   "outputs": [],
   "source": [
    "from sklearn.preprocessing import StandardScaler\n",
    "sc=StandardScaler()"
   ]
  },
  {
   "cell_type": "code",
   "execution_count": 81,
   "id": "7a36978d",
   "metadata": {},
   "outputs": [
    {
     "data": {
      "text/html": [
       "<style>#sk-container-id-4 {color: black;}#sk-container-id-4 pre{padding: 0;}#sk-container-id-4 div.sk-toggleable {background-color: white;}#sk-container-id-4 label.sk-toggleable__label {cursor: pointer;display: block;width: 100%;margin-bottom: 0;padding: 0.3em;box-sizing: border-box;text-align: center;}#sk-container-id-4 label.sk-toggleable__label-arrow:before {content: \"▸\";float: left;margin-right: 0.25em;color: #696969;}#sk-container-id-4 label.sk-toggleable__label-arrow:hover:before {color: black;}#sk-container-id-4 div.sk-estimator:hover label.sk-toggleable__label-arrow:before {color: black;}#sk-container-id-4 div.sk-toggleable__content {max-height: 0;max-width: 0;overflow: hidden;text-align: left;background-color: #f0f8ff;}#sk-container-id-4 div.sk-toggleable__content pre {margin: 0.2em;color: black;border-radius: 0.25em;background-color: #f0f8ff;}#sk-container-id-4 input.sk-toggleable__control:checked~div.sk-toggleable__content {max-height: 200px;max-width: 100%;overflow: auto;}#sk-container-id-4 input.sk-toggleable__control:checked~label.sk-toggleable__label-arrow:before {content: \"▾\";}#sk-container-id-4 div.sk-estimator input.sk-toggleable__control:checked~label.sk-toggleable__label {background-color: #d4ebff;}#sk-container-id-4 div.sk-label input.sk-toggleable__control:checked~label.sk-toggleable__label {background-color: #d4ebff;}#sk-container-id-4 input.sk-hidden--visually {border: 0;clip: rect(1px 1px 1px 1px);clip: rect(1px, 1px, 1px, 1px);height: 1px;margin: -1px;overflow: hidden;padding: 0;position: absolute;width: 1px;}#sk-container-id-4 div.sk-estimator {font-family: monospace;background-color: #f0f8ff;border: 1px dotted black;border-radius: 0.25em;box-sizing: border-box;margin-bottom: 0.5em;}#sk-container-id-4 div.sk-estimator:hover {background-color: #d4ebff;}#sk-container-id-4 div.sk-parallel-item::after {content: \"\";width: 100%;border-bottom: 1px solid gray;flex-grow: 1;}#sk-container-id-4 div.sk-label:hover label.sk-toggleable__label {background-color: #d4ebff;}#sk-container-id-4 div.sk-serial::before {content: \"\";position: absolute;border-left: 1px solid gray;box-sizing: border-box;top: 0;bottom: 0;left: 50%;z-index: 0;}#sk-container-id-4 div.sk-serial {display: flex;flex-direction: column;align-items: center;background-color: white;padding-right: 0.2em;padding-left: 0.2em;position: relative;}#sk-container-id-4 div.sk-item {position: relative;z-index: 1;}#sk-container-id-4 div.sk-parallel {display: flex;align-items: stretch;justify-content: center;background-color: white;position: relative;}#sk-container-id-4 div.sk-item::before, #sk-container-id-4 div.sk-parallel-item::before {content: \"\";position: absolute;border-left: 1px solid gray;box-sizing: border-box;top: 0;bottom: 0;left: 50%;z-index: -1;}#sk-container-id-4 div.sk-parallel-item {display: flex;flex-direction: column;z-index: 1;position: relative;background-color: white;}#sk-container-id-4 div.sk-parallel-item:first-child::after {align-self: flex-end;width: 50%;}#sk-container-id-4 div.sk-parallel-item:last-child::after {align-self: flex-start;width: 50%;}#sk-container-id-4 div.sk-parallel-item:only-child::after {width: 0;}#sk-container-id-4 div.sk-dashed-wrapped {border: 1px dashed gray;margin: 0 0.4em 0.5em 0.4em;box-sizing: border-box;padding-bottom: 0.4em;background-color: white;}#sk-container-id-4 div.sk-label label {font-family: monospace;font-weight: bold;display: inline-block;line-height: 1.2em;}#sk-container-id-4 div.sk-label-container {text-align: center;}#sk-container-id-4 div.sk-container {/* jupyter's `normalize.less` sets `[hidden] { display: none; }` but bootstrap.min.css set `[hidden] { display: none !important; }` so we also need the `!important` here to be able to override the default hidden behavior on the sphinx rendered scikit-learn.org. See: https://github.com/scikit-learn/scikit-learn/issues/21755 */display: inline-block !important;position: relative;}#sk-container-id-4 div.sk-text-repr-fallback {display: none;}</style><div id=\"sk-container-id-4\" class=\"sk-top-container\"><div class=\"sk-text-repr-fallback\"><pre>StandardScaler()</pre><b>In a Jupyter environment, please rerun this cell to show the HTML representation or trust the notebook. <br />On GitHub, the HTML representation is unable to render, please try loading this page with nbviewer.org.</b></div><div class=\"sk-container\" hidden><div class=\"sk-item\"><div class=\"sk-estimator sk-toggleable\"><input class=\"sk-toggleable__control sk-hidden--visually\" id=\"sk-estimator-id-4\" type=\"checkbox\" checked><label for=\"sk-estimator-id-4\" class=\"sk-toggleable__label sk-toggleable__label-arrow\">StandardScaler</label><div class=\"sk-toggleable__content\"><pre>StandardScaler()</pre></div></div></div></div></div>"
      ],
      "text/plain": [
       "StandardScaler()"
      ]
     },
     "execution_count": 81,
     "metadata": {},
     "output_type": "execute_result"
    }
   ],
   "source": [
    "sc.fit(X1)"
   ]
  },
  {
   "cell_type": "code",
   "execution_count": 82,
   "id": "ae3d08d7",
   "metadata": {},
   "outputs": [],
   "source": [
    "scaled_data=sc.transform(X1)"
   ]
  },
  {
   "cell_type": "code",
   "execution_count": 83,
   "id": "37902ed3",
   "metadata": {},
   "outputs": [],
   "source": [
    "data=pd.DataFrame(data=scaled_data,columns=X1.columns)"
   ]
  },
  {
   "cell_type": "code",
   "execution_count": 84,
   "id": "9ce13b87",
   "metadata": {},
   "outputs": [],
   "source": [
    "y1=new_final['flags']"
   ]
  },
  {
   "cell_type": "markdown",
   "id": "8028c0de",
   "metadata": {},
   "source": [
    "# Train test Split"
   ]
  },
  {
   "cell_type": "code",
   "execution_count": 85,
   "id": "40de3c9f",
   "metadata": {},
   "outputs": [],
   "source": [
    "from sklearn.model_selection import train_test_split"
   ]
  },
  {
   "cell_type": "code",
   "execution_count": 86,
   "id": "ad73e83d",
   "metadata": {},
   "outputs": [],
   "source": [
    "X1_train, X1_test, y1_train, y1_test = train_test_split(X1, y1, test_size=0.33, random_state=42)"
   ]
  },
  {
   "cell_type": "code",
   "execution_count": 87,
   "id": "6dbd5d24",
   "metadata": {},
   "outputs": [
    {
     "data": {
      "text/plain": [
       "((547759, 40), (269792, 40), (547759,), (269792,))"
      ]
     },
     "execution_count": 87,
     "metadata": {},
     "output_type": "execute_result"
    }
   ],
   "source": [
    "X1_train.shape,X1_test.shape,y1_train.shape,y1_test.shape"
   ]
  },
  {
   "cell_type": "markdown",
   "id": "65b7ea45",
   "metadata": {},
   "source": [
    "# Decision Tree"
   ]
  },
  {
   "cell_type": "code",
   "execution_count": 88,
   "id": "98e5bd2f",
   "metadata": {},
   "outputs": [],
   "source": [
    "from sklearn.tree import DecisionTreeClassifier\n",
    "clf = DecisionTreeClassifier(random_state=0)"
   ]
  },
  {
   "cell_type": "code",
   "execution_count": 89,
   "id": "0a41b3e8",
   "metadata": {},
   "outputs": [
    {
     "data": {
      "text/html": [
       "<style>#sk-container-id-5 {color: black;}#sk-container-id-5 pre{padding: 0;}#sk-container-id-5 div.sk-toggleable {background-color: white;}#sk-container-id-5 label.sk-toggleable__label {cursor: pointer;display: block;width: 100%;margin-bottom: 0;padding: 0.3em;box-sizing: border-box;text-align: center;}#sk-container-id-5 label.sk-toggleable__label-arrow:before {content: \"▸\";float: left;margin-right: 0.25em;color: #696969;}#sk-container-id-5 label.sk-toggleable__label-arrow:hover:before {color: black;}#sk-container-id-5 div.sk-estimator:hover label.sk-toggleable__label-arrow:before {color: black;}#sk-container-id-5 div.sk-toggleable__content {max-height: 0;max-width: 0;overflow: hidden;text-align: left;background-color: #f0f8ff;}#sk-container-id-5 div.sk-toggleable__content pre {margin: 0.2em;color: black;border-radius: 0.25em;background-color: #f0f8ff;}#sk-container-id-5 input.sk-toggleable__control:checked~div.sk-toggleable__content {max-height: 200px;max-width: 100%;overflow: auto;}#sk-container-id-5 input.sk-toggleable__control:checked~label.sk-toggleable__label-arrow:before {content: \"▾\";}#sk-container-id-5 div.sk-estimator input.sk-toggleable__control:checked~label.sk-toggleable__label {background-color: #d4ebff;}#sk-container-id-5 div.sk-label input.sk-toggleable__control:checked~label.sk-toggleable__label {background-color: #d4ebff;}#sk-container-id-5 input.sk-hidden--visually {border: 0;clip: rect(1px 1px 1px 1px);clip: rect(1px, 1px, 1px, 1px);height: 1px;margin: -1px;overflow: hidden;padding: 0;position: absolute;width: 1px;}#sk-container-id-5 div.sk-estimator {font-family: monospace;background-color: #f0f8ff;border: 1px dotted black;border-radius: 0.25em;box-sizing: border-box;margin-bottom: 0.5em;}#sk-container-id-5 div.sk-estimator:hover {background-color: #d4ebff;}#sk-container-id-5 div.sk-parallel-item::after {content: \"\";width: 100%;border-bottom: 1px solid gray;flex-grow: 1;}#sk-container-id-5 div.sk-label:hover label.sk-toggleable__label {background-color: #d4ebff;}#sk-container-id-5 div.sk-serial::before {content: \"\";position: absolute;border-left: 1px solid gray;box-sizing: border-box;top: 0;bottom: 0;left: 50%;z-index: 0;}#sk-container-id-5 div.sk-serial {display: flex;flex-direction: column;align-items: center;background-color: white;padding-right: 0.2em;padding-left: 0.2em;position: relative;}#sk-container-id-5 div.sk-item {position: relative;z-index: 1;}#sk-container-id-5 div.sk-parallel {display: flex;align-items: stretch;justify-content: center;background-color: white;position: relative;}#sk-container-id-5 div.sk-item::before, #sk-container-id-5 div.sk-parallel-item::before {content: \"\";position: absolute;border-left: 1px solid gray;box-sizing: border-box;top: 0;bottom: 0;left: 50%;z-index: -1;}#sk-container-id-5 div.sk-parallel-item {display: flex;flex-direction: column;z-index: 1;position: relative;background-color: white;}#sk-container-id-5 div.sk-parallel-item:first-child::after {align-self: flex-end;width: 50%;}#sk-container-id-5 div.sk-parallel-item:last-child::after {align-self: flex-start;width: 50%;}#sk-container-id-5 div.sk-parallel-item:only-child::after {width: 0;}#sk-container-id-5 div.sk-dashed-wrapped {border: 1px dashed gray;margin: 0 0.4em 0.5em 0.4em;box-sizing: border-box;padding-bottom: 0.4em;background-color: white;}#sk-container-id-5 div.sk-label label {font-family: monospace;font-weight: bold;display: inline-block;line-height: 1.2em;}#sk-container-id-5 div.sk-label-container {text-align: center;}#sk-container-id-5 div.sk-container {/* jupyter's `normalize.less` sets `[hidden] { display: none; }` but bootstrap.min.css set `[hidden] { display: none !important; }` so we also need the `!important` here to be able to override the default hidden behavior on the sphinx rendered scikit-learn.org. See: https://github.com/scikit-learn/scikit-learn/issues/21755 */display: inline-block !important;position: relative;}#sk-container-id-5 div.sk-text-repr-fallback {display: none;}</style><div id=\"sk-container-id-5\" class=\"sk-top-container\"><div class=\"sk-text-repr-fallback\"><pre>DecisionTreeClassifier(random_state=0)</pre><b>In a Jupyter environment, please rerun this cell to show the HTML representation or trust the notebook. <br />On GitHub, the HTML representation is unable to render, please try loading this page with nbviewer.org.</b></div><div class=\"sk-container\" hidden><div class=\"sk-item\"><div class=\"sk-estimator sk-toggleable\"><input class=\"sk-toggleable__control sk-hidden--visually\" id=\"sk-estimator-id-5\" type=\"checkbox\" checked><label for=\"sk-estimator-id-5\" class=\"sk-toggleable__label sk-toggleable__label-arrow\">DecisionTreeClassifier</label><div class=\"sk-toggleable__content\"><pre>DecisionTreeClassifier(random_state=0)</pre></div></div></div></div></div>"
      ],
      "text/plain": [
       "DecisionTreeClassifier(random_state=0)"
      ]
     },
     "execution_count": 89,
     "metadata": {},
     "output_type": "execute_result"
    }
   ],
   "source": [
    "clf.fit(X1_train,y1_train)"
   ]
  },
  {
   "cell_type": "code",
   "execution_count": 90,
   "id": "0adad48b",
   "metadata": {},
   "outputs": [],
   "source": [
    "test_pred=clf.predict(X1_test)"
   ]
  },
  {
   "cell_type": "code",
   "execution_count": 91,
   "id": "da51abfc",
   "metadata": {},
   "outputs": [],
   "source": [
    "from sklearn.metrics import accuracy_score,confusion_matrix,classification_report"
   ]
  },
  {
   "cell_type": "code",
   "execution_count": 94,
   "id": "fa645abc",
   "metadata": {},
   "outputs": [
    {
     "data": {
      "text/plain": [
       "0.9832834183370893"
      ]
     },
     "execution_count": 94,
     "metadata": {},
     "output_type": "execute_result"
    }
   ],
   "source": [
    "accuracy_score(y_test,test_pred)"
   ]
  },
  {
   "cell_type": "code",
   "execution_count": 92,
   "id": "4e563ae4",
   "metadata": {},
   "outputs": [],
   "source": [
    "train_pred=clf.predict(X1_train)\n"
   ]
  },
  {
   "cell_type": "code",
   "execution_count": 93,
   "id": "21315a65",
   "metadata": {},
   "outputs": [
    {
     "data": {
      "text/plain": [
       "0.9833138296221513"
      ]
     },
     "execution_count": 93,
     "metadata": {},
     "output_type": "execute_result"
    }
   ],
   "source": [
    "accuracy_score(y_train,train_pred)\n"
   ]
  },
  {
   "cell_type": "markdown",
   "id": "746b57b0",
   "metadata": {},
   "source": [
    "# Train Test Split"
   ]
  },
  {
   "cell_type": "code",
   "execution_count": 95,
   "id": "6e9520f8",
   "metadata": {},
   "outputs": [],
   "source": [
    "from sklearn.model_selection import train_test_split"
   ]
  },
  {
   "cell_type": "code",
   "execution_count": 96,
   "id": "bc03a788",
   "metadata": {},
   "outputs": [],
   "source": [
    "X_train, X_test, y_train, y_test = train_test_split(X, y, test_size=0.33, random_state=42)"
   ]
  },
  {
   "cell_type": "markdown",
   "id": "cf22d17f",
   "metadata": {},
   "source": [
    "# Support Vector Machine"
   ]
  },
  {
   "cell_type": "code",
   "execution_count": 104,
   "id": "03b273c9",
   "metadata": {},
   "outputs": [],
   "source": [
    "from sklearn import svm\n",
    "clf = svm.SVC()"
   ]
  },
  {
   "cell_type": "code",
   "execution_count": 105,
   "id": "64049f9a",
   "metadata": {},
   "outputs": [
    {
     "data": {
      "text/html": [
       "<style>#sk-container-id-7 {color: black;}#sk-container-id-7 pre{padding: 0;}#sk-container-id-7 div.sk-toggleable {background-color: white;}#sk-container-id-7 label.sk-toggleable__label {cursor: pointer;display: block;width: 100%;margin-bottom: 0;padding: 0.3em;box-sizing: border-box;text-align: center;}#sk-container-id-7 label.sk-toggleable__label-arrow:before {content: \"▸\";float: left;margin-right: 0.25em;color: #696969;}#sk-container-id-7 label.sk-toggleable__label-arrow:hover:before {color: black;}#sk-container-id-7 div.sk-estimator:hover label.sk-toggleable__label-arrow:before {color: black;}#sk-container-id-7 div.sk-toggleable__content {max-height: 0;max-width: 0;overflow: hidden;text-align: left;background-color: #f0f8ff;}#sk-container-id-7 div.sk-toggleable__content pre {margin: 0.2em;color: black;border-radius: 0.25em;background-color: #f0f8ff;}#sk-container-id-7 input.sk-toggleable__control:checked~div.sk-toggleable__content {max-height: 200px;max-width: 100%;overflow: auto;}#sk-container-id-7 input.sk-toggleable__control:checked~label.sk-toggleable__label-arrow:before {content: \"▾\";}#sk-container-id-7 div.sk-estimator input.sk-toggleable__control:checked~label.sk-toggleable__label {background-color: #d4ebff;}#sk-container-id-7 div.sk-label input.sk-toggleable__control:checked~label.sk-toggleable__label {background-color: #d4ebff;}#sk-container-id-7 input.sk-hidden--visually {border: 0;clip: rect(1px 1px 1px 1px);clip: rect(1px, 1px, 1px, 1px);height: 1px;margin: -1px;overflow: hidden;padding: 0;position: absolute;width: 1px;}#sk-container-id-7 div.sk-estimator {font-family: monospace;background-color: #f0f8ff;border: 1px dotted black;border-radius: 0.25em;box-sizing: border-box;margin-bottom: 0.5em;}#sk-container-id-7 div.sk-estimator:hover {background-color: #d4ebff;}#sk-container-id-7 div.sk-parallel-item::after {content: \"\";width: 100%;border-bottom: 1px solid gray;flex-grow: 1;}#sk-container-id-7 div.sk-label:hover label.sk-toggleable__label {background-color: #d4ebff;}#sk-container-id-7 div.sk-serial::before {content: \"\";position: absolute;border-left: 1px solid gray;box-sizing: border-box;top: 0;bottom: 0;left: 50%;z-index: 0;}#sk-container-id-7 div.sk-serial {display: flex;flex-direction: column;align-items: center;background-color: white;padding-right: 0.2em;padding-left: 0.2em;position: relative;}#sk-container-id-7 div.sk-item {position: relative;z-index: 1;}#sk-container-id-7 div.sk-parallel {display: flex;align-items: stretch;justify-content: center;background-color: white;position: relative;}#sk-container-id-7 div.sk-item::before, #sk-container-id-7 div.sk-parallel-item::before {content: \"\";position: absolute;border-left: 1px solid gray;box-sizing: border-box;top: 0;bottom: 0;left: 50%;z-index: -1;}#sk-container-id-7 div.sk-parallel-item {display: flex;flex-direction: column;z-index: 1;position: relative;background-color: white;}#sk-container-id-7 div.sk-parallel-item:first-child::after {align-self: flex-end;width: 50%;}#sk-container-id-7 div.sk-parallel-item:last-child::after {align-self: flex-start;width: 50%;}#sk-container-id-7 div.sk-parallel-item:only-child::after {width: 0;}#sk-container-id-7 div.sk-dashed-wrapped {border: 1px dashed gray;margin: 0 0.4em 0.5em 0.4em;box-sizing: border-box;padding-bottom: 0.4em;background-color: white;}#sk-container-id-7 div.sk-label label {font-family: monospace;font-weight: bold;display: inline-block;line-height: 1.2em;}#sk-container-id-7 div.sk-label-container {text-align: center;}#sk-container-id-7 div.sk-container {/* jupyter's `normalize.less` sets `[hidden] { display: none; }` but bootstrap.min.css set `[hidden] { display: none !important; }` so we also need the `!important` here to be able to override the default hidden behavior on the sphinx rendered scikit-learn.org. See: https://github.com/scikit-learn/scikit-learn/issues/21755 */display: inline-block !important;position: relative;}#sk-container-id-7 div.sk-text-repr-fallback {display: none;}</style><div id=\"sk-container-id-7\" class=\"sk-top-container\"><div class=\"sk-text-repr-fallback\"><pre>SVC()</pre><b>In a Jupyter environment, please rerun this cell to show the HTML representation or trust the notebook. <br />On GitHub, the HTML representation is unable to render, please try loading this page with nbviewer.org.</b></div><div class=\"sk-container\" hidden><div class=\"sk-item\"><div class=\"sk-estimator sk-toggleable\"><input class=\"sk-toggleable__control sk-hidden--visually\" id=\"sk-estimator-id-7\" type=\"checkbox\" checked><label for=\"sk-estimator-id-7\" class=\"sk-toggleable__label sk-toggleable__label-arrow\">SVC</label><div class=\"sk-toggleable__content\"><pre>SVC()</pre></div></div></div></div></div>"
      ],
      "text/plain": [
       "SVC()"
      ]
     },
     "execution_count": 105,
     "metadata": {},
     "output_type": "execute_result"
    }
   ],
   "source": [
    "clf.fit(X_train,y_train)\n"
   ]
  },
  {
   "cell_type": "code",
   "execution_count": null,
   "id": "c0239ecd",
   "metadata": {},
   "outputs": [],
   "source": [
    "test_pred=clf.predict(X_test)\n"
   ]
  },
  {
   "cell_type": "code",
   "execution_count": null,
   "id": "32980a8a",
   "metadata": {},
   "outputs": [],
   "source": [
    "from sklearn.metrics import accuracy_score,confusion_matrix,classification_report\n"
   ]
  },
  {
   "cell_type": "code",
   "execution_count": null,
   "id": "f3a64b8f",
   "metadata": {},
   "outputs": [],
   "source": [
    "accuracy_score(y_test,test_pred)\n"
   ]
  },
  {
   "cell_type": "code",
   "execution_count": null,
   "id": "36980653",
   "metadata": {},
   "outputs": [],
   "source": [
    "train_pred=clf.predict(X1_train)\n"
   ]
  },
  {
   "cell_type": "code",
   "execution_count": null,
   "id": "7b13330d",
   "metadata": {},
   "outputs": [],
   "source": [
    "accuracy_score(y_train,train_pred)\n"
   ]
  },
  {
   "cell_type": "code",
   "execution_count": null,
   "id": "ac176d18",
   "metadata": {},
   "outputs": [],
   "source": []
  },
  {
   "cell_type": "code",
   "execution_count": null,
   "id": "ee4310c3",
   "metadata": {},
   "outputs": [],
   "source": []
  }
 ],
 "metadata": {
  "kernelspec": {
   "display_name": "Python 3 (ipykernel)",
   "language": "python",
   "name": "python3"
  },
  "language_info": {
   "codemirror_mode": {
    "name": "ipython",
    "version": 3
   },
   "file_extension": ".py",
   "mimetype": "text/x-python",
   "name": "python",
   "nbconvert_exporter": "python",
   "pygments_lexer": "ipython3",
   "version": "3.11.4"
  }
 },
 "nbformat": 4,
 "nbformat_minor": 5
}
